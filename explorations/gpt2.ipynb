{
 "cells": [
  {
   "cell_type": "code",
   "execution_count": 1,
   "id": "c3e9a9b0-7960-4794-b7a3-190549e0863a",
   "metadata": {
    "tags": []
   },
   "outputs": [],
   "source": [
    "!pip install -q gpt-2-simple"
   ]
  },
  {
   "cell_type": "code",
   "execution_count": 2,
   "id": "45a79635-4b48-4044-8f03-add2381e2f2e",
   "metadata": {
    "tags": []
   },
   "outputs": [
    {
     "name": "stderr",
     "output_type": "stream",
     "text": [
      "2023-03-25 19:25:21.445420: I tensorflow/core/platform/cpu_feature_guard.cc:182] This TensorFlow binary is optimized to use available CPU instructions in performance-critical operations.\n",
      "To enable the following instructions: AVX2 FMA, in other operations, rebuild TensorFlow with the appropriate compiler flags.\n",
      "2023-03-25 19:25:22.685552: W tensorflow/compiler/tf2tensorrt/utils/py_utils.cc:38] TF-TRT Warning: Could not find TensorRT\n"
     ]
    }
   ],
   "source": [
    "import gpt_2_simple as gpt2\n",
    "from datetime import datetime"
   ]
  },
  {
   "cell_type": "markdown",
   "id": "21e2f506-7a42-4d5d-832c-3319c2d1c43d",
   "metadata": {},
   "source": [
    "\n",
    "There are three released sizes of GPT-2:\n",
    "https://github.com/minimaxir/gpt-2-simple\n",
    "https://colab.research.google.com/drive/1VLG8e7YSEwypxU-noRNhsv5dW4NfTGce#scrollTo=LdpZQXknFNY3\n",
    "124M (default): the \"small\" model, 500MB on disk.\n",
    "355M: the \"medium\" model, 1.5GB on disk.\n",
    "774M: the \"large\" model, cannot currently be finetuned with Colaboratory but can be used to generate text from the pretrained model (see later in Notebook)\n",
    "1558M: the \"extra large\", true model. Will not work if a K80/P4 GPU is attached to the notebook. (like 774M, it cannot be finetuned).\n",
    "Larger models have more knowledge, but take longer to finetune and longer to generate text. You can specify which base model to use by\n"
   ]
  },
  {
   "cell_type": "code",
   "execution_count": 3,
   "id": "f7dbcf17-3791-47f6-96f9-f26e87400ada",
   "metadata": {
    "tags": []
   },
   "outputs": [
    {
     "name": "stderr",
     "output_type": "stream",
     "text": [
      "Fetching checkpoint: 1.05Mit [00:00, 759Mit/s]                                                      \n",
      "Fetching encoder.json: 1.05Mit [00:00, 2.58Mit/s]                                                   \n",
      "Fetching hparams.json: 1.05Mit [00:00, 468Mit/s]                                                    \n",
      "Fetching model.ckpt.data-00000-of-00001: 498Mit [00:19, 25.8Mit/s]                                  \n",
      "Fetching model.ckpt.index: 1.05Mit [00:00, 485Mit/s]                                                \n",
      "Fetching model.ckpt.meta: 1.05Mit [00:00, 3.88Mit/s]                                                \n",
      "Fetching vocab.bpe: 1.05Mit [00:00, 4.53Mit/s]                                                      \n"
     ]
    }
   ],
   "source": [
    "\n",
    "gpt2.download_gpt2(model_name=\"124M\")"
   ]
  },
  {
   "cell_type": "code",
   "execution_count": 4,
   "id": "6fd66f88-436e-4d37-8886-5a91af144871",
   "metadata": {
    "tags": []
   },
   "outputs": [],
   "source": [
    "file_name = \"test.txt\""
   ]
  },
  {
   "cell_type": "code",
   "execution_count": 5,
   "id": "598c4f5f-8dea-47b6-b8b5-e632047fa924",
   "metadata": {
    "tags": []
   },
   "outputs": [
    {
     "name": "stderr",
     "output_type": "stream",
     "text": [
      "2023-03-25 19:26:49.097960: I tensorflow/core/common_runtime/gpu/gpu_device.cc:1635] Created device /job:localhost/replica:0/task:0/device:GPU:0 with 9601 MB memory:  -> device: 0, name: NVIDIA GeForce RTX 2080 Ti, pci bus id: 0000:29:00.0, compute capability: 7.5\n",
      "2023-03-25 19:26:49.103846: I tensorflow/core/common_runtime/gpu/gpu_device.cc:1635] Created device /job:localhost/replica:0/task:0/device:GPU:1 with 9601 MB memory:  -> device: 1, name: NVIDIA GeForce RTX 2080 Ti, pci bus id: 0000:64:00.0, compute capability: 7.5\n",
      "2023-03-25 19:26:53.741924: I tensorflow/core/common_runtime/gpu/gpu_device.cc:1635] Created device /job:localhost/replica:0/task:0/device:GPU:0 with 9601 MB memory:  -> device: 0, name: NVIDIA GeForce RTX 2080 Ti, pci bus id: 0000:29:00.0, compute capability: 7.5\n",
      "2023-03-25 19:26:53.742752: I tensorflow/core/common_runtime/gpu/gpu_device.cc:1635] Created device /job:localhost/replica:0/task:0/device:GPU:1 with 9601 MB memory:  -> device: 1, name: NVIDIA GeForce RTX 2080 Ti, pci bus id: 0000:64:00.0, compute capability: 7.5\n",
      "2023-03-25 19:27:00.958042: I tensorflow/compiler/mlir/mlir_graph_optimization_pass.cc:353] MLIR V1 optimization pass is not enabled\n"
     ]
    },
    {
     "name": "stdout",
     "output_type": "stream",
     "text": [
      "Loading checkpoint models/124M/model.ckpt\n",
      "INFO:tensorflow:Restoring parameters from models/124M/model.ckpt\n",
      "Loading dataset...\n"
     ]
    },
    {
     "name": "stderr",
     "output_type": "stream",
     "text": [
      "100%|██████████| 1/1 [00:01<00:00,  1.02s/it]\n"
     ]
    },
    {
     "name": "stdout",
     "output_type": "stream",
     "text": [
      "dataset has 192767 tokens\n",
      "Training...\n",
      "[100 | 97.76] loss=1.07 avg=1.07\n",
      "[200 | 188.88] loss=0.77 avg=0.92\n",
      "[300 | 280.46] loss=0.49 avg=0.78\n",
      "[400 | 371.81] loss=0.33 avg=0.66\n",
      "[500 | 464.74] loss=0.25 avg=0.58\n",
      "Saving checkpoint/run1/model-500\n",
      "[600 | 558.39] loss=0.18 avg=0.51\n",
      "[700 | 650.48] loss=0.11 avg=0.45\n",
      "[800 | 743.45] loss=0.06 avg=0.40\n",
      "[900 | 835.60] loss=0.07 avg=0.36\n",
      "[1000 | 927.34] loss=0.05 avg=0.33\n",
      "Saving checkpoint/run1/model-1000\n",
      "WARNING:tensorflow:From /opt/conda/lib/python3.10/site-packages/tensorflow/python/training/saver.py:1067: remove_checkpoint (from tensorflow.python.checkpoint.checkpoint_management) is deprecated and will be removed in a future version.\n",
      "Instructions for updating:\n",
      "Use standard file APIs to delete files with this prefix.\n",
      "[1100 | 1020.36] loss=0.04 avg=0.30\n",
      "[1200 | 1112.10] loss=0.04 avg=0.28\n",
      "[1300 | 1203.72] loss=0.03 avg=0.26\n",
      "[1400 | 1295.32] loss=0.04 avg=0.24\n",
      "[1500 | 1386.97] loss=0.03 avg=0.23\n",
      "Saving checkpoint/run1/model-1500\n",
      "[1600 | 1479.82] loss=0.03 avg=0.21\n",
      "[1700 | 1572.19] loss=0.03 avg=0.20\n",
      "[1800 | 1664.85] loss=0.04 avg=0.19\n",
      "[1900 | 1757.35] loss=0.04 avg=0.18\n",
      "[2000 | 1849.91] loss=0.03 avg=0.18\n",
      "Saving checkpoint/run1/model-2000\n"
     ]
    }
   ],
   "source": [
    "sess = gpt2.start_tf_sess()\n",
    "#roughly 30mins traning time\n",
    "gpt2.finetune(sess,\n",
    "              dataset=file_name,\n",
    "              model_name='124M',\n",
    "              steps=2000,\n",
    "              restore_from='fresh',\n",
    "              run_name='run1',\n",
    "              print_every=100,\n",
    "              sample_every=2000,\n",
    "              save_every=500\n",
    "              )"
   ]
  },
  {
   "cell_type": "code",
   "execution_count": 6,
   "id": "cb28966b-9e7e-4a39-865f-cf0b888bdf1f",
   "metadata": {
    "tags": []
   },
   "outputs": [],
   "source": [
    "#sess = gpt2.start_tf_sess()\n",
    "#gpt2.load_gpt2(sess, checkpoint_dir='checkpoint',run_name='run1',reuse=True)"
   ]
  },
  {
   "cell_type": "code",
   "execution_count": 66,
   "id": "264f999d-83e5-49e6-83a7-20b114a5b503",
   "metadata": {
    "tags": []
   },
   "outputs": [
    {
     "name": "stdout",
     "output_type": "stream",
     "text": [
      "No Finding':The heart is normal in size. The mediastinum is unremarkable. The lungs are clear.'Cardiomegaly':The heart and lungs have XXXX\n",
      "====================\n",
      "No Finding':Cardiac and mediastinal contours are within normal limits. The lungs are clear. Bony structures are intact.'No Finding':The heart is normal in size.\n",
      "====================\n",
      "No Finding':Heart size within normal limits. No focal alveolar consolidation, no definite pleural effusion seen. No typical findings of pulmonary edema. No pneumothorax\n",
      "====================\n",
      "No Finding':Heart size and pulmonary vascularity appear within normal limits. Lungs are free of focal airspace disease. No pleural effusion or pneumothorax is seen.'Card\n",
      "====================\n",
      "No Finding':Cardiomediastinal silhouette is normal. Pulmonary vasculature and XXXX are normal. No consolidation, pneumothorax or large pleural effusion\n",
      "====================\n"
     ]
    }
   ],
   "source": [
    "gpt2.generate(sess,run_name='run1',length=35,\n",
    "              temperature=0.7,\n",
    "              prefix=\"No Finding\",\n",
    "              nsamples=5,\n",
    "              batch_size=5)\n",
    "\n"
   ]
  },
  {
   "cell_type": "code",
   "execution_count": 12,
   "id": "f51e513e-9787-44e2-817b-142c4fb3fe66",
   "metadata": {},
   "outputs": [
    {
     "name": "stdout",
     "output_type": "stream",
     "text": [
      "Collecting nltk\n",
      "  Using cached nltk-3.8.1-py3-none-any.whl (1.5 MB)\n",
      "Collecting joblib\n",
      "  Using cached joblib-1.2.0-py3-none-any.whl (297 kB)\n",
      "Requirement already satisfied: regex>=2021.8.3 in /opt/conda/lib/python3.10/site-packages (from nltk) (2023.3.23)\n",
      "Requirement already satisfied: tqdm in /opt/conda/lib/python3.10/site-packages (from nltk) (4.65.0)\n",
      "Collecting click\n",
      "  Using cached click-8.1.3-py3-none-any.whl (96 kB)\n",
      "Installing collected packages: joblib, click, nltk\n",
      "Successfully installed click-8.1.3 joblib-1.2.0 nltk-3.8.1\n",
      "Note: you may need to restart the kernel to use updated packages.\n"
     ]
    }
   ],
   "source": [
    "pip install nltk"
   ]
  },
  {
   "cell_type": "code",
   "execution_count": 13,
   "id": "96ea7ef4-a023-4833-b210-fa9c70d969e6",
   "metadata": {
    "tags": []
   },
   "outputs": [],
   "source": [
    "from nltk.translate.bleu_score import sentence_bleu"
   ]
  },
  {
   "cell_type": "code",
   "execution_count": 16,
   "id": "0fc0b4e2-b003-4b98-b907-2ec4874203cf",
   "metadata": {
    "tags": []
   },
   "outputs": [],
   "source": [
    "with open('test.txt') as f:\n",
    "    lines = f.readlines()"
   ]
  },
  {
   "cell_type": "code",
   "execution_count": 67,
   "id": "3aa86d36-6035-4c55-9a83-5c80b6ee63d0",
   "metadata": {
    "tags": []
   },
   "outputs": [
    {
     "name": "stdout",
     "output_type": "stream",
     "text": [
      "0.41615175757083106\n"
     ]
    }
   ],
   "source": [
    "#with different input the result will be different\n",
    "#it is highly rely on the prefix input\n",
    "r1='No Finding The heart is normal in size and contour. The lungs are clear, without evidence of infiltrate. There is no pneumothorax or effusion. Support Devices The heart is normal in'.split(' ')\n",
    "r2='No Finding The heart is normal in size. The mediastinum is unremarkable. The lungs are clear. Lung Opacity Stable appearing right-sided XXXX. XXXX opac'.split(' ')\n",
    "r3='No Finding The cardiomediastinal silhouette is normal in size and contour. No focal consolidation, pneumothorax or large pleural effusion. Negative for acute bone abnormality.No'.split(' ')\n",
    "r4='No Finding Heart size normal. No pneumothorax, pleural effusion, or focal airspace disease. Bony structures appear intact.'.split(' ')\n",
    "cand ='No Finding The heart is normal in size and contour. There is no mediastinal widening. The lungs are clear bilaterally. No large pleural effusion or pneumothorax. The XXXX are intact.'.split(' ')\n",
    "\n",
    "print(sentence_bleu([r1,r2,r3,r4],cand))"
   ]
  },
  {
   "cell_type": "code",
   "execution_count": 72,
   "id": "5631faf5-d46e-49a6-999c-8b3c67f985f2",
   "metadata": {
    "tags": []
   },
   "outputs": [
    {
     "data": {
      "text/plain": [
       "1.0000009337702203"
      ]
     },
     "execution_count": 72,
     "metadata": {},
     "output_type": "execute_result"
    }
   ],
   "source": [
    "#the following paper indicate that lower preplexity has better performance\n",
    "# https://www.jmlr.org/papers/volume3/blei03a/blei03a.pdf\n",
    "#https://arxiv.org/pdf/1904.09751.pdf\n",
    "import math\n",
    "math.exp(0.18 / 192767)"
   ]
  },
  {
   "cell_type": "code",
   "execution_count": null,
   "id": "90f94e7b-a1fa-42e4-8946-e1c45c0077e9",
   "metadata": {},
   "outputs": [],
   "source": []
  }
 ],
 "metadata": {
  "kernelspec": {
   "display_name": "Python 3 (ipykernel)",
   "language": "python",
   "name": "python3"
  },
  "language_info": {
   "codemirror_mode": {
    "name": "ipython",
    "version": 3
   },
   "file_extension": ".py",
   "mimetype": "text/x-python",
   "name": "python",
   "nbconvert_exporter": "python",
   "pygments_lexer": "ipython3",
   "version": "3.10.9"
  }
 },
 "nbformat": 4,
 "nbformat_minor": 5
}
