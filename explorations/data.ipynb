{
 "cells": [
  {
   "cell_type": "code",
   "execution_count": 1,
   "id": "4c10de23-49e4-4dc3-ab84-47198cd14fe9",
   "metadata": {
    "tags": []
   },
   "outputs": [
    {
     "name": "stdout",
     "output_type": "stream",
     "text": [
      "Collecting jsonlines\n",
      "  Using cached jsonlines-3.1.0-py3-none-any.whl (8.6 kB)\n",
      "Requirement already satisfied: attrs>=19.2.0 in /opt/conda/lib/python3.10/site-packages (from jsonlines) (22.2.0)\n",
      "Installing collected packages: jsonlines\n",
      "Successfully installed jsonlines-3.1.0\n"
     ]
    }
   ],
   "source": [
    "!pip install jsonlines"
   ]
  },
  {
   "cell_type": "code",
   "execution_count": 13,
   "id": "c905ed43-36a8-46c6-a0de-527abe4fba56",
   "metadata": {
    "tags": []
   },
   "outputs": [],
   "source": [
    "#data prepare\n",
    "#save data to (key,val) paired format\n",
    "import jsonlines\n",
    "import csv\n",
    "fields = ['file_name', 'additional_feature'] \n",
    "dic=[[]]\n",
    "with jsonlines.open('/home/jovyan/metadata.jsonl') as f:\n",
    "    for line in f.iter():\n",
    "        dic.append([line['file_name']+'.jpg',line['additional_feature']])\n",
    "\n",
    "with open('metadata.csv', 'w') as csvfile: \n",
    "    # creating a csv writer object \n",
    "    csvwriter = csv.writer(csvfile) \n",
    "        \n",
    "    # writing the fields \n",
    "    csvwriter.writerow(fields) \n",
    "        \n",
    "    # writing the data rows \n",
    "    csvwriter.writerows(dic)"
   ]
  },
  {
   "cell_type": "code",
   "execution_count": null,
   "id": "5b4cfea1-1692-4065-88be-8db913574be4",
   "metadata": {},
   "outputs": [],
   "source": []
  }
 ],
 "metadata": {
  "kernelspec": {
   "display_name": "Python 3 (ipykernel)",
   "language": "python",
   "name": "python3"
  },
  "language_info": {
   "codemirror_mode": {
    "name": "ipython",
    "version": 3
   },
   "file_extension": ".py",
   "mimetype": "text/x-python",
   "name": "python",
   "nbconvert_exporter": "python",
   "pygments_lexer": "ipython3",
   "version": "3.10.9"
  }
 },
 "nbformat": 4,
 "nbformat_minor": 5
}
